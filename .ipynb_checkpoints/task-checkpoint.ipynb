{
 "cells": [
  {
   "cell_type": "markdown",
   "metadata": {},
   "source": [
    "# 3D Rotation\n",
    "3D Rotation can be represented in different ways as discussed in last week's lectures.\n",
    "These include:\n",
    "1.\tRotation matrices\n",
    "2.  Three angle representation\n",
    "3.\tTwo vector representation\n",
    "4.\tRotation about an eigen vector\n",
    "5.\tUnit quaternion\n",
    "6.\tMatrix exponential\n",
    "\n",
    "We explored the `rotation matrices` approach in last weeks lab exercise.\n",
    "\n",
    "This lab is designed for you to implement rotation matrices in each of those different methods."
   ]
  },
  {
   "cell_type": "code",
   "execution_count": 1,
   "metadata": {},
   "outputs": [],
   "source": [
    "# import required libraries\n",
    "import numpy as np\n",
    "import matplotlib.pyplot as plt\n",
    "# To render plots inline\n",
    "%matplotlib inline\n",
    "\n",
    "# For unit tests\n",
    "from tester import LabTester\n",
    "lab_tester = LabTester()"
   ]
  },
  {
   "cell_type": "code",
   "execution_count": 2,
   "metadata": {},
   "outputs": [],
   "source": [
    "def rotation_three_angle(alpha: float, gamma: float, theta: float, p: np.ndarray) -> np.ndarray:\n",
    "    \"\"\"\n",
    "    Input:\n",
    "        alpha, gamma, theta - Euler angles in degrees of rotation about the axes (x, y, x)\n",
    "        p                   - The vector to be transformed\n",
    "    Output: resulting coordinates after applying the rotation\n",
    "    \"\"\"\n",
    "    # Convert degrees to radians if angle > 6.28 (heuristic from original design)\n",
    "    alpha_rad = np.deg2rad(alpha) if abs(alpha) > 6.28 else alpha\n",
    "    gamma_rad = np.deg2rad(gamma) if abs(gamma) > 6.28 else gamma\n",
    "    theta_rad = np.deg2rad(theta) if abs(theta) > 6.28 else theta\n",
    "    \n",
    "    # Rotation matrix around x-axis for alpha\n",
    "    Rx_alpha = np.array([\n",
    "        [1, 0, 0],\n",
    "        [0, np.cos(alpha_rad), -np.sin(alpha_rad)],\n",
    "        [0, np.sin(alpha_rad), np.cos(alpha_rad)]\n",
    "    ])\n",
    "\n",
    "    # Rotation matrix around y-axis for gamma\n",
    "    Ry_gamma = np.array([\n",
    "        [np.cos(gamma_rad), 0, np.sin(gamma_rad)],\n",
    "        [0, 1, 0],\n",
    "        [-np.sin(gamma_rad), 0, np.cos(gamma_rad)]\n",
    "    ])\n",
    "\n",
    "    # Rotation matrix around x-axis for theta\n",
    "    Rx_theta = np.array([\n",
    "        [1, 0, 0],\n",
    "        [0, np.cos(theta_rad), -np.sin(theta_rad)],\n",
    "        [0, np.sin(theta_rad), np.cos(theta_rad)]\n",
    "    ])\n",
    "\n",
    "    # Intrinsic rotation: Rx(alpha) then Ry(gamma) then Rx(theta)\n",
    "    return np.round(Rx_theta @ Ry_gamma @ Rx_theta @ p , 3)"
   ]
  },
  {
   "cell_type": "code",
   "execution_count": 3,
   "metadata": {
    "scrolled": true
   },
   "outputs": [
    {
     "name": "stdout",
     "output_type": "stream",
     "text": [
      "\n",
      "=== Testing Three Angle Rotation Implementation ===\n",
      "✅ No Rotation\n",
      "✅ 45 Degree Rotation\n",
      "✅ Full Rotation\n",
      "✅ Negative 45 Degree Rotation\n"
     ]
    }
   ],
   "source": [
    "# Run test cases\n",
    "lab_tester.test_rotation_three_angle(rotation_three_angle)"
   ]
  },
  {
   "cell_type": "code",
   "execution_count": 4,
   "metadata": {},
   "outputs": [],
   "source": [
    "def rotation_two_vector(a_v: np.ndarray, o_v: np.ndarray, p: np.ndarray) -> np.ndarray:\n",
    "    # Normalize input vectors\n",
    "    o = o_v / np.linalg.norm(o_v)\n",
    "    a = a_v / np.linalg.norm(a_v)\n",
    "    \n",
    "    # Compute normal vector\n",
    "    n = np.cross(o, a)\n",
    "    if np.linalg.norm(n) < 1e-10:\n",
    "        raise ValueError(\"Orientation and approach vectors are parallel or too close to parallel.\")\n",
    "    n /= np.linalg.norm(n)\n",
    "    \n",
    "    # Recompute orthogonal orientation vector\n",
    "    o_prime = np.cross(a, n)\n",
    "    o_prime /= np.linalg.norm(o_prime)\n",
    "    \n",
    "    # Construct rotation matrix\n",
    "    R = np.column_stack((n, o_prime, a))\n",
    "    return np.round(R @ p, 3)"
   ]
  },
  {
   "cell_type": "code",
   "execution_count": 5,
   "metadata": {},
   "outputs": [
    {
     "name": "stdout",
     "output_type": "stream",
     "text": [
      "\n",
      "=== Testing Two Vector Rotation Implementation ===\n",
      "✅ X-Axis Rotation\n",
      "✅ Y-Axis Rotation\n",
      "✅ Z-Axis Rotation\n",
      "✅ 45-degree Z Rotation\n"
     ]
    }
   ],
   "source": [
    "lab_tester.test_rotation_two_vector(rotation_two_vector)"
   ]
  },
  {
   "cell_type": "code",
   "execution_count": 6,
   "metadata": {},
   "outputs": [],
   "source": [
    "def rotation_eigen_vector(neta: np.ndarray, theta: float, p: np.ndarray) -> np.ndarray:\n",
    "    \"\"\"\n",
    "    Rotate vector `p` around axis `neta` by angle `theta` using Rodrigues' rotation formula.\n",
    "\n",
    "    Parameters:\n",
    "    neta  - Rotation axis (eigen vector with eigenvalue 1)\n",
    "    theta - Angle of rotation about `neta` in degrees\n",
    "    p     - The vector to be transformed\n",
    "\n",
    "    Returns:\n",
    "    Rotated vector as a NumPy array.\n",
    "    \"\"\"\n",
    "    # Normalize the rotation axis\n",
    "    neta = neta / np.linalg.norm(neta)\n",
    "\n",
    "    # Convert angle from degrees to radians\n",
    "    theta = np.radians(theta)\n",
    "\n",
    "    # Skew-symmetric cross-product matrix K\n",
    "    K = np.array([\n",
    "        [0, -neta[2], neta[1]],\n",
    "        [neta[2], 0, -neta[0]],\n",
    "        [-neta[1], neta[0], 0]\n",
    "    ])\n",
    "\n",
    "    # Rotation matrix using Rodrigues' formula\n",
    "    R = np.eye(3) + np.sin(theta) * K + (1 - np.cos(theta)) * np.dot(K, K)\n",
    "\n",
    "    # Apply rotation\n",
    "    rotated_p = np.dot(R, p)\n",
    "\n",
    "    return rotated_p\n"
   ]
  },
  {
   "cell_type": "code",
   "execution_count": 7,
   "metadata": {},
   "outputs": [
    {
     "name": "stdout",
     "output_type": "stream",
     "text": [
      "\n",
      "=== Testing Eigen Vector Rotation Implementation ===\n",
      "✅ No Rotation\n",
      "✅ 180-degree Z Rotation\n",
      "✅ 90-degree X Rotation\n",
      "✅ 45-degree Y Rotation\n",
      "✅ Negative 90-degree Z Rotation\n"
     ]
    }
   ],
   "source": [
    "lab_tester.test_rotation_eigen_vector(rotation_eigen_vector)"
   ]
  },
  {
   "cell_type": "code",
   "execution_count": 8,
   "metadata": {},
   "outputs": [],
   "source": [
    "def quaternion_multiply(q1, q2):\n",
    "    \"\"\"Multiplies two quaternions.\"\"\"\n",
    "    w1, x1, y1, z1 = q1\n",
    "    w2, x2, y2, z2 = q2\n",
    "    return np.array([\n",
    "        w1*w2 - x1*x2 - y1*y2 - z1*z2,\n",
    "        w1*x2 + x1*w2 + y1*z2 - z1*y2,\n",
    "        w1*y2 - x1*z2 + y1*w2 + z1*x2,\n",
    "        w1*z2 + x1*y2 - y1*x2 + z1*w2\n",
    "    ])\n",
    "\n",
    "def rotation_unit_quaternion(q: np.ndarray, p: np.ndarray) -> np.ndarray:\n",
    "    # Your code here - q: Unit quaternion vector [Real, i, j, k]\n",
    "    # Ensure the quaternion is a unit quaternion\n",
    "    q = q / np.linalg.norm(q)\n",
    "    \n",
    "    # Convert vector p to quaternion form with zero scalar part\n",
    "    p_q = np.concatenate(([0], p))\n",
    "    \n",
    "    # Compute the conjugate of q\n",
    "    q_conj = np.array([q[0], -q[1], -q[2], -q[3]])\n",
    "    \n",
    "    # Rotate p: p' = q * p_q * q_conj\n",
    "    q_p = quaternion_multiply(q, p_q)\n",
    "    q_p_q_conj = quaternion_multiply(q_p, q_conj)\n",
    "    \n",
    "    # Return the vector part of the resulting quaternion\n",
    "    return q_p_q_conj[1:]"
   ]
  },
  {
   "cell_type": "code",
   "execution_count": 9,
   "metadata": {},
   "outputs": [
    {
     "name": "stdout",
     "output_type": "stream",
     "text": [
      "\n",
      "=== Testing Unit Quaternion Rotation Implementation ===\n",
      "✅ No Rotation\n",
      "✅ 90-degree X Rotation\n",
      "✅ 180-degree Y Rotation\n",
      "✅ 45-degree Z Rotation\n",
      "✅ Negative 90-degree X Rotation\n"
     ]
    }
   ],
   "source": [
    "lab_tester.test_rotation_unit_quaternion(rotation_unit_quaternion)"
   ]
  },
  {
   "cell_type": "code",
   "execution_count": 10,
   "metadata": {},
   "outputs": [],
   "source": [
    "def skew_symmetric(w_x: np.ndarray) -> np.ndarray:\n",
    "    \"\"\"Returns the skew-symmetric matrix of a 3D vector w_x.\"\"\"\n",
    "    return np.array([\n",
    "        [0, -w_x[2], w_x[1]],\n",
    "        [w_x[2], 0, -w_x[0]],\n",
    "        [-w_x[1], w_x[0], 0]\n",
    "    ])\n",
    "\n",
    "def rotation_matrix_exp(w_x: np.ndarray, theta: float, p: np.ndarray) -> np.ndarray:\n",
    "    \"\"\"\n",
    "    Rotate point p using the matrix exponential of the skew-symmetric matrix of w_x.\n",
    "    \n",
    "    Parameters:\n",
    "        w_x : np.ndarray - The unit vector representing the axis of rotation (3D).\n",
    "        theta : float - The angle of rotation in degrees.\n",
    "        p : np.ndarray - The point to be rotated (3D).\n",
    "        \n",
    "    Returns:\n",
    "        np.ndarray - The rotated point (3D).\n",
    "    \"\"\"\n",
    "    # Convert angle to radians\n",
    "    theta_rad = np.radians(theta)\n",
    "\n",
    "    # Compute the skew-symmetric matrix of w_x\n",
    "    W_x = skew_symmetric(w_x)\n",
    "    \n",
    "    # Calculate the matrix exponential using the Rodriguez formula\n",
    "    R = np.eye(3) + np.sin(theta_rad) * W_x + (1 - np.cos(theta_rad)) * np.dot(W_x, W_x)\n",
    "    \n",
    "    # Apply the rotation to the point\n",
    "    p_rotated = np.dot(R, p)\n",
    "    \n",
    "    return p_rotated"
   ]
  },
  {
   "cell_type": "code",
   "execution_count": 11,
   "metadata": {},
   "outputs": [
    {
     "name": "stdout",
     "output_type": "stream",
     "text": [
      "\n",
      "=== Testing Matrix Exponential Rotation Implementation ===\n",
      "✅ No Rotation\n",
      "✅ 90-degree X-axis Rotation\n",
      "✅ 90-degree Y-axis Rotation\n",
      "✅ 90-degree Z-axis Rotation\n",
      "✅ 180-degree X-axis Rotation\n",
      "✅ 180-degree Y-axis Rotation\n",
      "✅ 180-degree Z-axis Rotation\n",
      "✅ 45-degree X-axis Rotation\n"
     ]
    }
   ],
   "source": [
    "lab_tester.test_rotation_matrix_exp(rotation_matrix_exp)"
   ]
  },
  {
   "cell_type": "code",
   "execution_count": 12,
   "metadata": {},
   "outputs": [
    {
     "name": "stdout",
     "output_type": "stream",
     "text": [
      "\n",
      "=== Test Summary ===\n",
      "Passed: 26/26 tests\n",
      "🎉 All tests passed!\n"
     ]
    }
   ],
   "source": [
    "# Summary of test results\n",
    "lab_tester.print_summary()"
   ]
  }
 ],
 "metadata": {
  "kernelspec": {
   "display_name": "Python 3 (ipykernel)",
   "language": "python",
   "name": "python3"
  },
  "language_info": {
   "codemirror_mode": {
    "name": "ipython",
    "version": 3
   },
   "file_extension": ".py",
   "mimetype": "text/x-python",
   "name": "python",
   "nbconvert_exporter": "python",
   "pygments_lexer": "ipython3",
   "version": "3.13.1"
  }
 },
 "nbformat": 4,
 "nbformat_minor": 4
}
