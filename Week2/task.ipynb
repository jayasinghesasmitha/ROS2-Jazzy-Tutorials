{
 "cells": [
  {
   "cell_type": "markdown",
   "metadata": {},
   "source": [
    "# 3D Rotation\n",
    "3D Rotation can be represented in different ways as discussed in last week's lectures.\n",
    "These include:\n",
    "1.\tRotation matrices\n",
    "2.  Three angle representation\n",
    "3.\tTwo vector representation\n",
    "4.\tRotation about an eigen vector\n",
    "5.\tUnit quaternion\n",
    "6.\tMatrix exponential\n",
    "\n",
    "We explored the `rotation matrices` approach in last weeks lab exercise.\n",
    "\n",
    "This lab is designed for you to implement rotation matrices in each of those different methods."
   ]
  },
  {
   "cell_type": "code",
   "execution_count": 12,
   "metadata": {},
   "outputs": [],
   "source": [
    "# import required libraries\n",
    "import numpy as np\n",
    "import matplotlib.pyplot as plt\n",
    "# To render plots inline\n",
    "%matplotlib inline\n",
    "\n",
    "# For unit tests\n",
    "from tester import LabTester\n",
    "lab_tester = LabTester()"
   ]
  },
  {
   "cell_type": "code",
   "execution_count": 13,
   "metadata": {},
   "outputs": [],
   "source": [
    "def rotation_three_angle(alpha:float, gamma:float, theta:float, p:np.ndarray) -> np.ndarray:\n",
    "    \"\"\"\n",
    "    Input:\n",
    "        alpha, gamma, theta - Euler angles of rotation about the axes (x, y, x)\n",
    "        p                   - The vector to be transformed\n",
    "    Output: resulting coordinates after appyling the rotation\n",
    "    \"\"\"\n",
    "    # Your code here - Use Euler angles method => (x,y,x)\n",
    "    # Rotation matrix about x-axis\n",
    "    def Rx(angle):\n",
    "        return np.array([\n",
    "            [1, 0, 0],\n",
    "            [0, np.cos(angle), -np.sin(angle)],\n",
    "            [0, np.sin(angle), np.cos(angle)]\n",
    "        ])\n",
    "    \n",
    "    # Rotation matrix about y-axis\n",
    "    def Ry(angle):\n",
    "        return np.array([\n",
    "            [np.cos(angle), 0, np.sin(angle)],\n",
    "            [0, 1, 0],\n",
    "            [-np.sin(angle), 0, np.cos(angle)]\n",
    "        ])\n",
    "        \n",
    "    Rx1 = Rx(np.deg2rad(alpha))\n",
    "    Ry1 = Ry(np.deg2rad(gamma))\n",
    "    Rx2 = Rx(np.deg2rad(theta))\n",
    "    \n",
    "    # Apply the transformations in sequence (x -> y -> x)\n",
    "    p =  Rx1 @ Ry1 @ Rx2 @ p\n",
    "    return p"
   ]
  },
  {
   "cell_type": "code",
   "execution_count": 14,
   "metadata": {},
   "outputs": [
    {
     "name": "stdout",
     "output_type": "stream",
     "text": [
      "\n",
      "=== Testing Three Angle Rotation Implementation ===\n",
      "✅ No Rotation\n",
      "✅ 45 Degree Rotation\n",
      "✅ Full Rotation\n",
      "✅ Negative 45 Degree Rotation\n"
     ]
    }
   ],
   "source": [
    "# Run test cases\n",
    "lab_tester.test_rotation_three_angle(rotation_three_angle)"
   ]
  },
  {
   "cell_type": "code",
   "execution_count": 15,
   "metadata": {},
   "outputs": [],
   "source": [
    "def rotation_two_vector(a_v: np.ndarray, o_v: np.ndarray, p:np.ndarray) -> np.ndarray:\n",
    "    \"\"\"\n",
    "    Input:\n",
    "        a_v     - Approach vector\n",
    "        o_v     - Orientation vector\n",
    "        p       - The vector to be transformed\n",
    "    Output: resulting coordinates after appyling the rotation\n",
    "    \"\"\"\n",
    "    # Your code here\n",
    "    o = o_v / np.linalg.norm(o_v)\n",
    "    a = a_v / np.linalg.norm(a_v)\n",
    "\n",
    "    # Compute normal vector\n",
    "    n = np.cross(o, a)\n",
    "    if np.linalg.norm(n) < 1e-10:\n",
    "        raise ValueError(\"error\")\n",
    "    n /= np.linalg.norm(n)\n",
    "\n",
    "    # Recompute orthogonal orientation vector\n",
    "    o_prime = np.cross(a, n)\n",
    "    o_prime /= np.linalg.norm(o_prime)\n",
    "\n",
    "    # Construct rotation matrix\n",
    "    R = np.column_stack((n, o_prime, a))\n",
    "\n",
    "    P = np.round(R @ p, 3)\n",
    "    \n",
    "    return P"
   ]
  },
  {
   "cell_type": "code",
   "execution_count": 16,
   "metadata": {},
   "outputs": [
    {
     "name": "stdout",
     "output_type": "stream",
     "text": [
      "\n",
      "=== Testing Two Vector Rotation Implementation ===\n",
      "✅ X-Axis Rotation\n",
      "✅ Y-Axis Rotation\n",
      "✅ Z-Axis Rotation\n",
      "✅ 45-degree Z Rotation\n"
     ]
    }
   ],
   "source": [
    "lab_tester.test_rotation_two_vector(rotation_two_vector)"
   ]
  },
  {
   "cell_type": "code",
   "execution_count": 17,
   "metadata": {},
   "outputs": [],
   "source": [
    "def rotation_eigen_vector(neta: np.ndarray, theta:float, p:np.ndarray) -> np.ndarray:\n",
    "    \"\"\"\n",
    "    Input:\n",
    "        neta    - Eigen vector with eigen value 1\n",
    "        theta   - Angle of rotation about neta\n",
    "        p       - The vector to be transformed\n",
    "    Output: resulting coordinates after appyling the rotation\n",
    "    \"\"\"\n",
    "    # Your code here - Use Rodirgues Formula\n",
    "    # Ensure the eigenvector is a unit vector\n",
    "    neta = neta / np.linalg.norm(neta)\n",
    "\n",
    "    # Compute Rodrigues' rotation formula\n",
    "    p = (\n",
    "        p * np.cos(np.deg2rad(theta)) +\n",
    "        np.cross(neta, p) * np.sin(np.deg2rad(theta)) +\n",
    "        neta * np.dot(neta, p) * (1 - np.cos(np.deg2rad(theta)))\n",
    "    )\n",
    "    return p"
   ]
  },
  {
   "cell_type": "code",
   "execution_count": 18,
   "metadata": {},
   "outputs": [
    {
     "name": "stdout",
     "output_type": "stream",
     "text": [
      "\n",
      "=== Testing Eigen Vector Rotation Implementation ===\n",
      "✅ No Rotation\n",
      "✅ 180-degree Z Rotation\n",
      "✅ 90-degree X Rotation\n",
      "✅ 45-degree Y Rotation\n",
      "✅ Negative 90-degree Z Rotation\n"
     ]
    }
   ],
   "source": [
    "lab_tester.test_rotation_eigen_vector(rotation_eigen_vector)"
   ]
  },
  {
   "cell_type": "code",
   "execution_count": 19,
   "metadata": {},
   "outputs": [
    {
     "name": "stdout",
     "output_type": "stream",
     "text": [
      "[ 0.          0.         -0.99998082]\n"
     ]
    }
   ],
   "source": [
    "def rotation_unit_quaternion(q: np.ndarray, p: np.ndarray) -> np.ndarray:\n",
    "    # Your code here - q: Unit quaternion vector [Real, i, j, k]\n",
    "    # Extract components of quaternion\n",
    "    q0, q1, q2, q3 = q\n",
    "    px, py, pz = p\n",
    "\n",
    "    # Compute the quaternion product q * P * q_conj\n",
    "    P = np.array([0, px, py, pz])  \n",
    "    q_conj = np.array([q0, -q1, -q2, -q3])  \n",
    "\n",
    "    # Quaternion multiplication function\n",
    "    def quat_mult(a, b):\n",
    "        \"\"\"Multiplies two quaternions a and b.\"\"\"\n",
    "        w1, x1, y1, z1 = a\n",
    "        w2, x2, y2, z2 = b\n",
    "        return np.array([\n",
    "            w1*w2 - x1*x2 - y1*y2 - z1*z2,\n",
    "            w1*x2 + x1*w2 + y1*z2 - z1*y2,\n",
    "            w1*y2 - x1*z2 + y1*w2 + z1*x2,\n",
    "            w1*z2 + x1*y2 - y1*x2 + z1*w2\n",
    "        ])\n",
    "\n",
    "    # Perform rotation: P' = q * P * q_conj\n",
    "    P_rotated = quat_mult(quat_mult(q, P), q_conj)\n",
    "\n",
    "    # Return the rotated vector part\n",
    "    return P_rotated[1:]  \n",
    "\n",
    "# Example usage\n",
    "q = np.array([0.7071, 0, 0.7071, 0])  \n",
    "p = np.array([1, 0, 0])  \n",
    "\n",
    "rotated_p = rotation_unit_quaternion(q, p)\n",
    "print(rotated_p)  "
   ]
  },
  {
   "cell_type": "code",
   "execution_count": 20,
   "metadata": {},
   "outputs": [
    {
     "name": "stdout",
     "output_type": "stream",
     "text": [
      "\n",
      "=== Testing Unit Quaternion Rotation Implementation ===\n",
      "✅ No Rotation\n",
      "✅ 90-degree X Rotation\n",
      "✅ 180-degree Y Rotation\n",
      "✅ 45-degree Z Rotation\n",
      "✅ Negative 90-degree X Rotation\n"
     ]
    }
   ],
   "source": [
    "lab_tester.test_rotation_unit_quaternion(rotation_unit_quaternion)"
   ]
  },
  {
   "cell_type": "code",
   "execution_count": 21,
   "metadata": {},
   "outputs": [],
   "source": [
    "def skew_symmetric(w_x: np.ndarray) -> np.ndarray:\n",
    "    \"\"\"Returns the skew-symmetric matrix of a 3D vector w_x.\"\"\"\n",
    "    return np.array([\n",
    "        [0, -w_x[2], w_x[1]],\n",
    "        [w_x[2], 0, -w_x[0]],\n",
    "        [-w_x[1], w_x[0], 0]\n",
    "    ])\n",
    "\n",
    "def rotation_matrix_exp(w_x: np.ndarray, theta: float, p: np.ndarray) -> np.ndarray:\n",
    "    \"\"\"\n",
    "    Rotate point p using the matrix exponential of the skew-symmetric matrix of w_x.\n",
    "    \n",
    "    Parameters:\n",
    "        w_x : np.ndarray - The unit vector representing the axis of rotation (3D).\n",
    "        theta : float - The angle of rotation in **degrees**.\n",
    "        p : np.ndarray - The point to be rotated (3D).\n",
    "        \n",
    "    Returns:\n",
    "        np.ndarray - The rotated point (3D).\n",
    "    \"\"\"\n",
    "    # Ensure w_x is a unit vector\n",
    "    w_x = w_x / np.linalg.norm(w_x)\n",
    "\n",
    "    # Convert angle to radians\n",
    "    theta_rad = np.radians(theta)\n",
    "\n",
    "    # Compute the skew-symmetric matrix of w_x\n",
    "    W_x = skew_symmetric(w_x)\n",
    "    \n",
    "    # Calculate the rotation matrix using Rodrigues' formula\n",
    "    R = np.eye(3) + np.sin(theta_rad) * W_x + (1 - np.cos(theta_rad)) * np.dot(W_x, W_x)\n",
    "    \n",
    "    # Apply the rotation to the point\n",
    "    p_rotated = np.dot(R, p)\n",
    "\n",
    "    ans = np.round(p_rotated, 3)\n",
    "    \n",
    "    # Round to avoid floating-point precision issues\n",
    "    return ans\n"
   ]
  },
  {
   "cell_type": "code",
   "execution_count": 22,
   "metadata": {},
   "outputs": [
    {
     "name": "stdout",
     "output_type": "stream",
     "text": [
      "\n",
      "=== Testing Matrix Exponential Rotation Implementation ===\n",
      "✅ No Rotation\n",
      "✅ 90-degree X-axis Rotation\n",
      "✅ 90-degree Y-axis Rotation\n",
      "✅ 90-degree Z-axis Rotation\n",
      "✅ 180-degree X-axis Rotation\n",
      "✅ 180-degree Y-axis Rotation\n",
      "✅ 180-degree Z-axis Rotation\n",
      "✅ 45-degree X-axis Rotation\n"
     ]
    }
   ],
   "source": [
    "lab_tester.test_rotation_matrix_exp(rotation_matrix_exp)"
   ]
  },
  {
   "cell_type": "code",
   "execution_count": null,
   "metadata": {},
   "outputs": [],
   "source": []
  },
  {
   "cell_type": "code",
   "execution_count": null,
   "metadata": {},
   "outputs": [],
   "source": []
  }
 ],
 "metadata": {
  "kernelspec": {
   "display_name": "Python 3 (ipykernel)",
   "language": "python",
   "name": "python3"
  },
  "language_info": {
   "codemirror_mode": {
    "name": "ipython",
    "version": 3
   },
   "file_extension": ".py",
   "mimetype": "text/x-python",
   "name": "python",
   "nbconvert_exporter": "python",
   "pygments_lexer": "ipython3",
   "version": "3.12.3"
  }
 },
 "nbformat": 4,
 "nbformat_minor": 4
}
